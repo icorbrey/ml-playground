{
 "cells": [
  {
   "attachments": {},
   "cell_type": "markdown",
   "metadata": {},
   "source": [
    "# Numpy Crash Course"
   ]
  },
  {
   "cell_type": "code",
   "execution_count": 2,
   "metadata": {},
   "outputs": [],
   "source": [
    "import numpy as np"
   ]
  },
  {
   "attachments": {},
   "cell_type": "markdown",
   "metadata": {},
   "source": [
    "## Basics\n",
    "\n",
    "### Basic Arrays"
   ]
  },
  {
   "cell_type": "code",
   "execution_count": 6,
   "metadata": {},
   "outputs": [
    {
     "name": "stdout",
     "output_type": "stream",
     "text": [
      "[1 2 3 4 5]\n"
     ]
    }
   ],
   "source": [
    "one_dimensional_array = np.array([1, 2, 3, 4, 5])\n",
    "print(one_dimensional_array)"
   ]
  },
  {
   "cell_type": "code",
   "execution_count": 7,
   "metadata": {},
   "outputs": [
    {
     "name": "stdout",
     "output_type": "stream",
     "text": [
      "[[1 2]\n",
      " [3 4]\n",
      " [5 6]]\n"
     ]
    }
   ],
   "source": [
    "two_dimensional_array = np.array([[1, 2], [3, 4], [5, 6]])\n",
    "print(two_dimensional_array)"
   ]
  },
  {
   "attachments": {},
   "cell_type": "markdown",
   "metadata": {},
   "source": [
    "### Sequences"
   ]
  },
  {
   "cell_type": "code",
   "execution_count": 5,
   "metadata": {},
   "outputs": [
    {
     "name": "stdout",
     "output_type": "stream",
     "text": [
      "[1 2 3 4 5 6 7 8 9]\n"
     ]
    }
   ],
   "source": [
    "sequence_of_integers = np.arange(1, 10)\n",
    "print(sequence_of_integers)"
   ]
  },
  {
   "attachments": {},
   "cell_type": "markdown",
   "metadata": {},
   "source": [
    "### Random Numbers"
   ]
  },
  {
   "cell_type": "code",
   "execution_count": 8,
   "metadata": {},
   "outputs": [
    {
     "name": "stdout",
     "output_type": "stream",
     "text": [
      "[61 56 92 79 86 93]\n"
     ]
    }
   ],
   "source": [
    "random_integers = np.random.randint(low=50, high=101, size=6);\n",
    "print(random_integers)"
   ]
  },
  {
   "cell_type": "code",
   "execution_count": 11,
   "metadata": {},
   "outputs": [
    {
     "name": "stdout",
     "output_type": "stream",
     "text": [
      "[0.50965773 0.63617858 0.02787952 0.34798326 0.42217977 0.76033235]\n"
     ]
    }
   ],
   "source": [
    "random_floats = np.random.random(6)\n",
    "print(random_floats)"
   ]
  },
  {
   "attachments": {},
   "cell_type": "markdown",
   "metadata": {},
   "source": [
    "### Mathematical Operations"
   ]
  },
  {
   "cell_type": "code",
   "execution_count": 12,
   "metadata": {},
   "outputs": [
    {
     "name": "stdout",
     "output_type": "stream",
     "text": [
      "[2.50965773 2.63617858 2.02787952 2.34798326 2.42217977 2.76033235]\n"
     ]
    }
   ],
   "source": [
    "print(random_floats + 2)"
   ]
  },
  {
   "cell_type": "code",
   "execution_count": 13,
   "metadata": {},
   "outputs": [
    {
     "name": "stdout",
     "output_type": "stream",
     "text": [
      "[183 168 276 237 258 279]\n"
     ]
    }
   ],
   "source": [
    "print(random_integers * 3)"
   ]
  },
  {
   "attachments": {},
   "cell_type": "markdown",
   "metadata": {},
   "source": [
    "## Linear Dataset\n",
    "\n",
    "Your goal is to create a simple dataset consisting of a single feature and a\n",
    "label as follows:\n",
    "\n",
    "1. Assign a sequence of integers from 6 to 20 (inclusive) to a NumPy array named\n",
    "   `feature`.\n",
    "1. Assign 15 values to a NumPy array named `label` such that\n",
    "   `label = 3 * feature + 4`."
   ]
  },
  {
   "cell_type": "code",
   "execution_count": 15,
   "metadata": {},
   "outputs": [
    {
     "name": "stdout",
     "output_type": "stream",
     "text": [
      "[ 6  7  8  9 10 11 12 13 14 15 16 17 18 19 20]\n",
      "[22 25 28 31 34 37 40 43 46 49 52 55 58 61 64]\n"
     ]
    }
   ],
   "source": [
    "feature = np.arange(start=6, stop=21)\n",
    "print(feature)\n",
    "\n",
    "label = 3 * feature + 4\n",
    "print(label)"
   ]
  },
  {
   "attachments": {},
   "cell_type": "markdown",
   "metadata": {},
   "source": [
    "To make your dataset a little more realistic, insert a little random noise into\n",
    "each element of the `label` array you created. To be more precise, modify each\n",
    "value assigned to `label` by adding a _different_ random floating-point value\n",
    "between -2 and +2.\n",
    "\n",
    "Don't rely on broadcasting. Instead, create a `noise` array having the same\n",
    "dimension as `label`."
   ]
  },
  {
   "cell_type": "code",
   "execution_count": 17,
   "metadata": {},
   "outputs": [
    {
     "name": "stdout",
     "output_type": "stream",
     "text": [
      "[ 0.29001493 -1.99834741 -0.60885187 -0.40047312 -0.27765964 -0.87504436\n",
      " -1.22775111 -0.02890938 -1.32788061  1.07176789  1.52164443 -1.14541473\n",
      " -0.68504407 -1.14134745 -1.50144741]\n",
      "[22.29001493 23.00165259 27.39114813 30.59952688 33.72234036 36.12495564\n",
      " 38.77224889 42.97109062 44.67211939 50.07176789 53.52164443 53.85458527\n",
      " 57.31495593 59.85865255 62.49855259]\n"
     ]
    }
   ],
   "source": [
    "noise = np.random.random(len(label)) * 4 - 2\n",
    "print(noise)\n",
    "\n",
    "label = label + noise\n",
    "print(label)"
   ]
  }
 ],
 "metadata": {
  "kernelspec": {
   "display_name": "Python 3",
   "language": "python",
   "name": "python3"
  },
  "language_info": {
   "codemirror_mode": {
    "name": "ipython",
    "version": 3
   },
   "file_extension": ".py",
   "mimetype": "text/x-python",
   "name": "python",
   "nbconvert_exporter": "python",
   "pygments_lexer": "ipython3",
   "version": "3.10.6"
  },
  "orig_nbformat": 4
 },
 "nbformat": 4,
 "nbformat_minor": 2
}
