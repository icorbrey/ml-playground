{
 "cells": [
  {
   "attachments": {},
   "cell_type": "markdown",
   "metadata": {},
   "source": [
    "# Pandas Crash Course"
   ]
  },
  {
   "cell_type": "code",
   "execution_count": 2,
   "metadata": {},
   "outputs": [],
   "source": [
    "import numpy as np\n",
    "import pandas as pd"
   ]
  },
  {
   "attachments": {},
   "cell_type": "markdown",
   "metadata": {},
   "source": [
    "## Basics\n",
    "\n",
    "### Creating a DataFrame"
   ]
  },
  {
   "cell_type": "code",
   "execution_count": 7,
   "metadata": {},
   "outputs": [
    {
     "name": "stdout",
     "output_type": "stream",
     "text": [
      "   temperature  activity\n",
      "0            1         2\n",
      "1            3         4\n",
      "2            5         6\n",
      "3            7         8\n",
      "4            9        10\n"
     ]
    }
   ],
   "source": [
    "data = np.array([[1, 2], [3, 4], [5, 6], [7, 8], [9, 10]])\n",
    "columns = ['temperature', 'activity']\n",
    "\n",
    "dataframe = pd.DataFrame(data=data, columns=columns)\n",
    "print(dataframe)"
   ]
  },
  {
   "attachments": {},
   "cell_type": "markdown",
   "metadata": {},
   "source": [
    "### Adding a New Column to a DataFrame"
   ]
  },
  {
   "cell_type": "code",
   "execution_count": 8,
   "metadata": {},
   "outputs": [
    {
     "name": "stdout",
     "output_type": "stream",
     "text": [
      "   temperature  activity  adjusted\n",
      "0            1         2         4\n",
      "1            3         4         6\n",
      "2            5         6         8\n",
      "3            7         8        10\n",
      "4            9        10        12\n"
     ]
    }
   ],
   "source": [
    "dataframe['adjusted'] = dataframe['activity'] + 2\n",
    "print(dataframe)"
   ]
  },
  {
   "attachments": {},
   "cell_type": "markdown",
   "metadata": {},
   "source": [
    "### Specifying a Subset of a DataFrame"
   ]
  },
  {
   "cell_type": "code",
   "execution_count": 12,
   "metadata": {},
   "outputs": [
    {
     "name": "stdout",
     "output_type": "stream",
     "text": [
      "Rows 0, 1, and 2:\n",
      "   temperature  activity  adjusted\n",
      "0            1         2         4\n",
      "1            3         4         6\n",
      "2            5         6         8\n"
     ]
    }
   ],
   "source": [
    "print('Rows 0, 1, and 2:')\n",
    "print(dataframe.head(3))"
   ]
  },
  {
   "cell_type": "code",
   "execution_count": 13,
   "metadata": {},
   "outputs": [
    {
     "name": "stdout",
     "output_type": "stream",
     "text": [
      "Row 2:\n",
      "temperature    5\n",
      "activity       6\n",
      "adjusted       8\n",
      "Name: 2, dtype: int64\n"
     ]
    }
   ],
   "source": [
    "print('Row 2:')\n",
    "print(dataframe.iloc[2])"
   ]
  },
  {
   "cell_type": "code",
   "execution_count": 14,
   "metadata": {},
   "outputs": [
    {
     "name": "stdout",
     "output_type": "stream",
     "text": [
      "Rows 1, 2, and 3:\n",
      "   temperature  activity  adjusted\n",
      "1            3         4         6\n",
      "2            5         6         8\n",
      "3            7         8        10\n"
     ]
    }
   ],
   "source": [
    "print('Rows 1, 2, and 3:')\n",
    "print(dataframe[1:4])"
   ]
  },
  {
   "cell_type": "code",
   "execution_count": 15,
   "metadata": {},
   "outputs": [
    {
     "name": "stdout",
     "output_type": "stream",
     "text": [
      "Temperature column\n",
      "0    1\n",
      "1    3\n",
      "2    5\n",
      "3    7\n",
      "4    9\n",
      "Name: temperature, dtype: int64\n"
     ]
    }
   ],
   "source": [
    "print('Temperature column')\n",
    "print(dataframe['temperature'])"
   ]
  },
  {
   "attachments": {},
   "cell_type": "markdown",
   "metadata": {},
   "source": [
    "## DataFrame Practice\n",
    "\n",
    "Do the following:\n",
    "\n",
    "1. Create a 3x4 pandas DataFrame in which the columns are named `Eleanor`,\n",
    "   `Chidi`, `Tahani`, and `Jason`. Populate each of the 12 cells in the\n",
    "   DataFrame with a random integer between 0 and 100, inclusive.\n",
    "1. Output the following:\n",
    "   - The entire DataFrame.\n",
    "   - The value in the cell of row 1 of the Eleanor column.\n",
    "1. Create a fifth column named `Janet`, which is populated with the row-by-row\n",
    "   sums of `Tahani` and `Jason`."
   ]
  },
  {
   "cell_type": "code",
   "execution_count": 27,
   "metadata": {},
   "outputs": [
    {
     "name": "stdout",
     "output_type": "stream",
     "text": [
      "   Eleanor  Chidi  Tahani  Jason\n",
      "0       82     55       3     77\n",
      "1       25     41      48     64\n",
      "2       68     47      67     15\n",
      "25\n",
      "   Eleanor  Chidi  Tahani  Jason  Janet\n",
      "0       82     55       3     77     80\n",
      "1       25     41      48     64    112\n",
      "2       68     47      67     15     82\n"
     ]
    }
   ],
   "source": [
    "data = np.random.randint(101, size=(3, 4))\n",
    "columns = [\n",
    "    'Eleanor',\n",
    "    'Chidi',\n",
    "    'Tahani',\n",
    "    'Jason',\n",
    "]\n",
    "\n",
    "dataframe = pd.DataFrame(data, columns=columns)\n",
    "\n",
    "print(dataframe)\n",
    "print(dataframe['Eleanor'].iloc[1])\n",
    "\n",
    "dataframe['Janet'] = dataframe['Tahani'] + dataframe['Jason']\n",
    "print(dataframe)"
   ]
  },
  {
   "attachments": {},
   "cell_type": "markdown",
   "metadata": {},
   "source": [
    "Pandas provides two different ways to duplicate a DataFrame:\n",
    "\n",
    "- **Reference**: If you assign a DataFrame to a new variable, any change to the\n",
    "  DataFrame or to the new variable will be reflected in the other.\n",
    "- **Copying**: If you call the `pd.DataFrame.copy` method, you create a true\n",
    "  independent copy. Changes to the original DataFrame or to the copy will not be\n",
    "  reflected in the other."
   ]
  },
  {
   "cell_type": "code",
   "execution_count": 32,
   "metadata": {},
   "outputs": [
    {
     "name": "stdout",
     "output_type": "stream",
     "text": [
      "Copying by reference:\n",
      "\tStarting value of dataframe: 79\n",
      "\tStarting value of reference: 79\n",
      "\n",
      "\tUpdated value of dataframe: 84\n",
      "\tUpdated value of reference: 84\n",
      "\n",
      "Copying by value\n",
      "\tStarting value of dataframe: 84\n",
      "\tStarting value of copy: 84\n",
      "\n",
      "\tUpdated value of dataframe: 89\n",
      "\tUpdated value of copy: 84\n",
      "\n"
     ]
    }
   ],
   "source": [
    "print('Copying by reference:')\n",
    "reference = dataframe\n",
    "\n",
    "print('\\tStarting value of dataframe:', dataframe['Jason'][1])\n",
    "print('\\tStarting value of reference:', reference['Jason'][1], end='\\n\\n')\n",
    "\n",
    "dataframe.at[1, 'Jason'] = dataframe.at[1, 'Jason'] + 5\n",
    "\n",
    "print('\\tUpdated value of dataframe:', dataframe['Jason'][1])\n",
    "print('\\tUpdated value of reference:', reference['Jason'][1], end='\\n\\n')\n",
    "\n",
    "print('Copying by value')\n",
    "copy = dataframe.copy()\n",
    "\n",
    "print('\\tStarting value of dataframe:', dataframe['Jason'][1])\n",
    "print('\\tStarting value of copy:', copy['Jason'][1], end='\\n\\n')\n",
    "\n",
    "dataframe.at[1, 'Jason'] = dataframe.at[1, 'Jason'] + 5\n",
    "\n",
    "print('\\tUpdated value of dataframe:', dataframe['Jason'][1])\n",
    "print('\\tUpdated value of copy:', copy['Jason'][1], end='\\n\\n')"
   ]
  }
 ],
 "metadata": {
  "kernelspec": {
   "display_name": "Python 3",
   "language": "python",
   "name": "python3"
  },
  "language_info": {
   "codemirror_mode": {
    "name": "ipython",
    "version": 3
   },
   "file_extension": ".py",
   "mimetype": "text/x-python",
   "name": "python",
   "nbconvert_exporter": "python",
   "pygments_lexer": "ipython3",
   "version": "3.10.6"
  },
  "orig_nbformat": 4
 },
 "nbformat": 4,
 "nbformat_minor": 2
}
