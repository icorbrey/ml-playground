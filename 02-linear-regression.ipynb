{
 "cells": [
  {
   "attachments": {},
   "cell_type": "markdown",
   "metadata": {},
   "source": [
    "# Linear Regression\n",
    "\n",
    "It has long been known that crickets (an insect species) chirp more frequently\n",
    "on hotter days than on cooler days. For decades, professional and amateur\n",
    "scientists have cataloged data on chirps-per-minute and temperature. As a\n",
    "birthday gift, your Aunt Ruth gives you her cricket database and asks you to\n",
    "learn a model to predict this relationship. Using this data, you want to explore\n",
    "this relationship.\n",
    "\n",
    "First, examine your data by plotting it. As expected, the plot shows the\n",
    "temperature rising with the number of chirps. Is this relationship between\n",
    "chirps and temperature linear? Yes, you could draw a single straight line to\n",
    "approximate this relationship. True, the line doesn't pass through every dot,\n",
    "but the line does clearly show the relationship between chirps and temperature.\n",
    "Using the equation for a line, you could write down this relationship as such:\n",
    "$y = mx + b$, where:\n",
    "\n",
    "- $y$ is the temperature in Celsius - the value we're trying to predict.\n",
    "- $m$ is the slope of the line.\n",
    "- $x$ is the number of chirps per minute - the value of our input feature.\n",
    "- $b$ is the y-intercept.\n",
    "\n",
    "By convention in machine-learning, you'll right the equation for a model\n",
    "slightly differently, as such: $y\\prime = b + w_1 x_1$, where\n",
    "\n",
    "- $y\\prime$ is the predicted label (a desired output).\n",
    "- $b$ is the bias (the y-intercept), sometimes referred to as $w_0$.\n",
    "- $w_1$ is the weight of feature 1. Weight is the same concept as the \"slope\"\n",
    "  $m$ in the traditional equation of a line.\n",
    "- $x_1$ is a feature (a known input).\n",
    "\n",
    "To **infer** (predict) the temperature $y\\prime$ for a new chirps-per-minute\n",
    "value $x_1$, just substitute the $x_1$ value into this model.\n",
    "\n",
    "Although this model uses only a single feature, a more sophisticated model might\n",
    "rely on multiple features, each having a separate weight ($w_1$, $w_2$, etc.).\n",
    "For example, a model that relies on three features might be defined as such:\n",
    "$y\\prime = b + w_1 x_1 + w_2 x_2 + w_3 x_3$."
   ]
  }
 ],
 "metadata": {
  "language_info": {
   "name": "python"
  },
  "orig_nbformat": 4
 },
 "nbformat": 4,
 "nbformat_minor": 2
}
